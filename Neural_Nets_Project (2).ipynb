{
  "nbformat": 4,
  "nbformat_minor": 0,
  "metadata": {
    "colab": {
      "name": "Neural Nets Project.ipynb",
      "version": "0.3.2",
      "provenance": []
    },
    "kernelspec": {
      "name": "python3",
      "display_name": "Python 3"
    },
    "accelerator": "GPU"
  },
  "cells": [
    {
      "cell_type": "markdown",
      "metadata": {
        "id": "sT0KWUCm_wiQ",
        "colab_type": "text"
      },
      "source": [
        "#**Simple Neural Nets**"
      ]
    },
    {
      "cell_type": "markdown",
      "metadata": {
        "id": "rxwooKh__1sh",
        "colab_type": "text"
      },
      "source": [
        "##**Reading in the Data**"
      ]
    },
    {
      "cell_type": "code",
      "metadata": {
        "id": "i9QaV7iDuCvQ",
        "colab_type": "code",
        "colab": {}
      },
      "source": [
        "from __future__ import absolute_import, division, print_function\n",
        "\n",
        "# TensorFlow and tf.keras\n",
        "import tensorflow as tf\n",
        "from tensorflow import keras\n",
        "import numpy as np\n",
        "import matplotlib.pyplot as plt"
      ],
      "execution_count": 0,
      "outputs": []
    },
    {
      "cell_type": "code",
      "metadata": {
        "id": "jPNKIdUwuGlU",
        "colab_type": "code",
        "colab": {}
      },
      "source": [
        "fashion_mnist = keras.datasets.fashion_mnist\n",
        "(x_train, y_train), (x_test, y_test) = fashion_mnist.load_data()"
      ],
      "execution_count": 0,
      "outputs": []
    },
    {
      "cell_type": "code",
      "metadata": {
        "id": "0bxYQmCruRjp",
        "colab_type": "code",
        "colab": {
          "base_uri": "https://localhost:8080/",
          "height": 34
        },
        "outputId": "bef82ec6-72e5-4ee5-e7c0-ead41b7a4ebc"
      },
      "source": [
        "x_train.shape"
      ],
      "execution_count": 14,
      "outputs": [
        {
          "output_type": "execute_result",
          "data": {
            "text/plain": [
              "(60000, 28, 28)"
            ]
          },
          "metadata": {
            "tags": []
          },
          "execution_count": 14
        }
      ]
    },
    {
      "cell_type": "code",
      "metadata": {
        "id": "oNi3i6mFuqt6",
        "colab_type": "code",
        "colab": {
          "base_uri": "https://localhost:8080/",
          "height": 34
        },
        "outputId": "0c1ebc5b-29aa-42ad-d93b-9d205d65bf7c"
      },
      "source": [
        "print(x_train[0].shape)"
      ],
      "execution_count": 15,
      "outputs": [
        {
          "output_type": "stream",
          "text": [
            "(28, 28)\n"
          ],
          "name": "stdout"
        }
      ]
    },
    {
      "cell_type": "markdown",
      "metadata": {
        "id": "1XZ0Uq2F_5e-",
        "colab_type": "text"
      },
      "source": [
        "##**Buliding a Neural Net**"
      ]
    },
    {
      "cell_type": "code",
      "metadata": {
        "id": "pn32e0uHu3Wt",
        "colab_type": "code",
        "colab": {}
      },
      "source": [
        "model = keras.Sequential([keras.layers.Flatten(input_shape = (28,28)),\n",
        "                                   keras.layers.Dense(128,activation = tf.nn.sigmoid),                          \n",
        "                          keras.layers.Dense(10,activation = tf.nn.softmax)\n",
        "                                   ])\n",
        "model.compile(optimizer = 'adam',loss='sparse_categorical_crossentropy',metrics = ['accuracy'])"
      ],
      "execution_count": 0,
      "outputs": []
    },
    {
      "cell_type": "code",
      "metadata": {
        "id": "EejT1edRvoCS",
        "colab_type": "code",
        "colab": {
          "base_uri": "https://localhost:8080/",
          "height": 204
        },
        "outputId": "f3675e02-c64c-4d6e-ed5b-9eda0a2c8e4b"
      },
      "source": [
        "model.fit(x_train, y_train,epochs = 5)"
      ],
      "execution_count": 41,
      "outputs": [
        {
          "output_type": "stream",
          "text": [
            "Epoch 1/5\n",
            "60000/60000 [==============================] - 6s 93us/sample - loss: 0.8991 - accuracy: 0.6946\n",
            "Epoch 2/5\n",
            "60000/60000 [==============================] - 5s 84us/sample - loss: 0.7550 - accuracy: 0.7120\n",
            "Epoch 3/5\n",
            "60000/60000 [==============================] - 5s 90us/sample - loss: 0.7294 - accuracy: 0.7199\n",
            "Epoch 4/5\n",
            "60000/60000 [==============================] - 6s 92us/sample - loss: 0.7073 - accuracy: 0.7318\n",
            "Epoch 5/5\n",
            "60000/60000 [==============================] - 5s 90us/sample - loss: 0.6969 - accuracy: 0.7340\n"
          ],
          "name": "stdout"
        },
        {
          "output_type": "execute_result",
          "data": {
            "text/plain": [
              "<tensorflow.python.keras.callbacks.History at 0x7fda167e9e10>"
            ]
          },
          "metadata": {
            "tags": []
          },
          "execution_count": 41
        }
      ]
    },
    {
      "cell_type": "code",
      "metadata": {
        "id": "MrfIO_DZ134R",
        "colab_type": "code",
        "colab": {
          "base_uri": "https://localhost:8080/",
          "height": 51
        },
        "outputId": "92c339aa-e673-42f7-9087-418d3ce6a8c8"
      },
      "source": [
        "test_loss, test_acc = model.evaluate(x_test, y_test)\n",
        "\n",
        "print('Test accuracy:', test_acc)"
      ],
      "execution_count": 42,
      "outputs": [
        {
          "output_type": "stream",
          "text": [
            "10000/10000 [==============================] - 0s 44us/sample - loss: 0.7439 - accuracy: 0.7203\n",
            "Test accuracy: 0.7203\n"
          ],
          "name": "stdout"
        }
      ]
    },
    {
      "cell_type": "markdown",
      "metadata": {
        "id": "nUXNcnyE_-HP",
        "colab_type": "text"
      },
      "source": [
        "##**Building a Second NN with more layers**"
      ]
    },
    {
      "cell_type": "code",
      "metadata": {
        "id": "wdWA2TNS_Nwh",
        "colab_type": "code",
        "colab": {}
      },
      "source": [
        "model = keras.Sequential([keras.layers.Flatten(input_shape = (28,28)),\n",
        "                                   keras.layers.Dense(228,activation = tf.nn.sigmoid),\n",
        "                          keras.layers.Dense(128,activation = tf.nn.relu),\n",
        "                          keras.layers.Dense(10,activation = tf.nn.softmax)\n",
        "                                   ])\n",
        "model.compile(optimizer = 'adam',loss='sparse_categorical_crossentropy',metrics = ['accuracy'])"
      ],
      "execution_count": 0,
      "outputs": []
    },
    {
      "cell_type": "code",
      "metadata": {
        "id": "eiV5GBFS_cBl",
        "colab_type": "code",
        "colab": {
          "base_uri": "https://localhost:8080/",
          "height": 204
        },
        "outputId": "f958fcbe-5362-45b7-9b5b-a85a673a396e"
      },
      "source": [
        "model.fit(x_train, y_train,epochs = 5)"
      ],
      "execution_count": 45,
      "outputs": [
        {
          "output_type": "stream",
          "text": [
            "Epoch 1/5\n",
            "60000/60000 [==============================] - 7s 116us/sample - loss: 0.8390 - accuracy: 0.6787\n",
            "Epoch 2/5\n",
            "60000/60000 [==============================] - 7s 116us/sample - loss: 0.8065 - accuracy: 0.6892\n",
            "Epoch 3/5\n",
            "60000/60000 [==============================] - 7s 117us/sample - loss: 0.7549 - accuracy: 0.7052\n",
            "Epoch 4/5\n",
            "60000/60000 [==============================] - 7s 112us/sample - loss: 0.7548 - accuracy: 0.7025\n",
            "Epoch 5/5\n",
            "60000/60000 [==============================] - 7s 124us/sample - loss: 0.7020 - accuracy: 0.7273\n"
          ],
          "name": "stdout"
        },
        {
          "output_type": "execute_result",
          "data": {
            "text/plain": [
              "<tensorflow.python.keras.callbacks.History at 0x7fda12364780>"
            ]
          },
          "metadata": {
            "tags": []
          },
          "execution_count": 45
        }
      ]
    },
    {
      "cell_type": "code",
      "metadata": {
        "id": "MUP8QNUzAEyG",
        "colab_type": "code",
        "colab": {
          "base_uri": "https://localhost:8080/",
          "height": 51
        },
        "outputId": "b6cf9125-41ae-49fb-e025-ea3ef9d05c2b"
      },
      "source": [
        "test_loss, test_acc = model.evaluate(x_test, y_test)\n",
        "\n",
        "print('Test accuracy:', test_acc)"
      ],
      "execution_count": 46,
      "outputs": [
        {
          "output_type": "stream",
          "text": [
            "10000/10000 [==============================] - 1s 51us/sample - loss: 0.7219 - accuracy: 0.7226\n",
            "Test accuracy: 0.7226\n"
          ],
          "name": "stdout"
        }
      ]
    },
    {
      "cell_type": "markdown",
      "metadata": {
        "id": "POxPA7HBAP1n",
        "colab_type": "text"
      },
      "source": [
        "##**Changing the Activation Function**"
      ]
    },
    {
      "cell_type": "code",
      "metadata": {
        "id": "XaO9qBo6AWYv",
        "colab_type": "code",
        "colab": {
          "base_uri": "https://localhost:8080/",
          "height": 221
        },
        "outputId": "7fa663fc-2f93-4b62-8d68-1c4ade09a2d3"
      },
      "source": [
        "#Doing every layer as softmax\n",
        "model = keras.Sequential([keras.layers.Flatten(input_shape = (28,28)),\n",
        "                                   keras.layers.Dense(10,activation = tf.nn.softmax),\n",
        "                          keras.layers.Dense(10,activation = tf.nn.softmax),\n",
        "                          keras.layers.Dense(10,activation = tf.nn.softmax)\n",
        "                                   ])\n",
        "model.compile(optimizer = 'adam',loss='sparse_categorical_crossentropy',metrics = ['accuracy'])\n",
        "model.fit(x_train, y_train,epochs = 5)\n",
        "test_loss, test_acc = model.evaluate(x_test, y_test)\n",
        "\n",
        "print('Test accuracy:', test_acc)\n"
      ],
      "execution_count": 47,
      "outputs": [
        {
          "output_type": "stream",
          "text": [
            "Epoch 1/5\n",
            "60000/60000 [==============================] - 3s 54us/sample - loss: 1.9968 - accuracy: 0.1896\n",
            "Epoch 2/5\n",
            "60000/60000 [==============================] - 3s 54us/sample - loss: 1.7786 - accuracy: 0.1966\n",
            "Epoch 3/5\n",
            "60000/60000 [==============================] - 3s 55us/sample - loss: 1.7304 - accuracy: 0.1972\n",
            "Epoch 4/5\n",
            "60000/60000 [==============================] - 3s 55us/sample - loss: 1.7096 - accuracy: 0.1958\n",
            "Epoch 5/5\n",
            "60000/60000 [==============================] - 3s 54us/sample - loss: 1.7048 - accuracy: 0.1963\n",
            "10000/10000 [==============================] - 0s 34us/sample - loss: 1.7029 - accuracy: 0.1998\n",
            "Test accuracy: 0.1998\n"
          ],
          "name": "stdout"
        }
      ]
    },
    {
      "cell_type": "code",
      "metadata": {
        "id": "5f97pHl4AoEm",
        "colab_type": "code",
        "colab": {
          "base_uri": "https://localhost:8080/",
          "height": 221
        },
        "outputId": "3399cca8-20ee-495a-ca5a-31f5d5d5637b"
      },
      "source": [
        "#Doing every layer as sigmoid\n",
        "model = keras.Sequential([keras.layers.Flatten(input_shape = (28,28)),\n",
        "                                   keras.layers.Dense(228,activation = tf.nn.sigmoid),\n",
        "                          keras.layers.Dense(128,activation = tf.nn.sigmoid),\n",
        "                          keras.layers.Dense(10,activation = tf.nn.softmax)\n",
        "                                   ])\n",
        "model.compile(optimizer = 'adam',loss='sparse_categorical_crossentropy',metrics = ['accuracy'])\n",
        "model.fit(x_train, y_train,epochs = 5)\n",
        "test_loss, test_acc = model.evaluate(x_test, y_test)\n",
        "\n",
        "print('Test accuracy:', test_acc)"
      ],
      "execution_count": 50,
      "outputs": [
        {
          "output_type": "stream",
          "text": [
            "Epoch 1/5\n",
            "60000/60000 [==============================] - 7s 111us/sample - loss: 0.8510 - accuracy: 0.6904\n",
            "Epoch 2/5\n",
            "60000/60000 [==============================] - 6s 108us/sample - loss: 0.7419 - accuracy: 0.7101\n",
            "Epoch 3/5\n",
            "60000/60000 [==============================] - 6s 105us/sample - loss: 0.7398 - accuracy: 0.7072\n",
            "Epoch 4/5\n",
            "60000/60000 [==============================] - 6s 107us/sample - loss: 0.7218 - accuracy: 0.7197\n",
            "Epoch 5/5\n",
            "60000/60000 [==============================] - 7s 109us/sample - loss: 0.7106 - accuracy: 0.7309\n",
            "10000/10000 [==============================] - 1s 56us/sample - loss: 0.7288 - accuracy: 0.7322\n",
            "Test accuracy: 0.7322\n"
          ],
          "name": "stdout"
        }
      ]
    },
    {
      "cell_type": "code",
      "metadata": {
        "id": "vHdYMIeCDkPj",
        "colab_type": "code",
        "colab": {
          "base_uri": "https://localhost:8080/",
          "height": 221
        },
        "outputId": "799674bd-a317-47e0-f97c-fbc6e56505b0"
      },
      "source": [
        "#Doing every layer as relu\n",
        "model = keras.Sequential([keras.layers.Flatten(input_shape = (28,28)),\n",
        "                                   keras.layers.Dense(228,activation = tf.nn.relu),\n",
        "                          keras.layers.Dense(128,activation = tf.nn.relu),\n",
        "                          keras.layers.Dense(10,activation = tf.nn.softmax)\n",
        "                                   ])\n",
        "model.compile(optimizer = 'adam',loss='sparse_categorical_crossentropy',metrics = ['accuracy'])\n",
        "model.fit(x_train, y_train,epochs = 5)\n",
        "test_loss, test_acc = model.evaluate(x_test, y_test)\n",
        "\n",
        "print('Test accuracy:', test_acc)"
      ],
      "execution_count": 51,
      "outputs": [
        {
          "output_type": "stream",
          "text": [
            "Epoch 1/5\n",
            "60000/60000 [==============================] - 6s 104us/sample - loss: 2.0177 - accuracy: 0.7608\n",
            "Epoch 2/5\n",
            "60000/60000 [==============================] - 6s 103us/sample - loss: 0.5248 - accuracy: 0.8204\n",
            "Epoch 3/5\n",
            "60000/60000 [==============================] - 6s 104us/sample - loss: 0.4583 - accuracy: 0.8382\n",
            "Epoch 4/5\n",
            "60000/60000 [==============================] - 6s 105us/sample - loss: 0.4302 - accuracy: 0.8461\n",
            "Epoch 5/5\n",
            "60000/60000 [==============================] - 6s 105us/sample - loss: 0.4096 - accuracy: 0.8525\n",
            "10000/10000 [==============================] - 1s 53us/sample - loss: 0.4294 - accuracy: 0.8509\n",
            "Test accuracy: 0.8509\n"
          ],
          "name": "stdout"
        }
      ]
    },
    {
      "cell_type": "code",
      "metadata": {
        "id": "V9QQDLfREXkH",
        "colab_type": "code",
        "colab": {
          "base_uri": "https://localhost:8080/",
          "height": 221
        },
        "outputId": "64a12b93-6e34-47c2-af58-166a33ff1125"
      },
      "source": [
        "#Doing 4 layers as relu\n",
        "model = keras.Sequential([keras.layers.Flatten(input_shape = (28,28)),\n",
        "                                   keras.layers.Dense(228,activation = tf.nn.relu),\n",
        "                          keras.layers.Dense(128,activation = tf.nn.relu),\n",
        "                          keras.layers.Dense(128,activation = tf.nn.relu),\n",
        "                          keras.layers.Dense(10,activation = tf.nn.softmax)\n",
        "                                   ])\n",
        "model.compile(optimizer = 'adam',loss='sparse_categorical_crossentropy',metrics = ['accuracy'])\n",
        "model.fit(x_train, y_train,epochs = 5)\n",
        "test_loss, test_acc = model.evaluate(x_test, y_test)\n",
        "\n",
        "print('Test accuracy:', test_acc)"
      ],
      "execution_count": 52,
      "outputs": [
        {
          "output_type": "stream",
          "text": [
            "Epoch 1/5\n",
            "60000/60000 [==============================] - 7s 119us/sample - loss: 1.1984 - accuracy: 0.7649\n",
            "Epoch 2/5\n",
            "60000/60000 [==============================] - 7s 114us/sample - loss: 0.5188 - accuracy: 0.8186\n",
            "Epoch 3/5\n",
            "60000/60000 [==============================] - 7s 115us/sample - loss: 0.4765 - accuracy: 0.8317\n",
            "Epoch 4/5\n",
            "60000/60000 [==============================] - 7s 114us/sample - loss: 0.4354 - accuracy: 0.8449\n",
            "Epoch 5/5\n",
            "60000/60000 [==============================] - 7s 116us/sample - loss: 0.4014 - accuracy: 0.8551\n",
            "10000/10000 [==============================] - 1s 56us/sample - loss: 0.4544 - accuracy: 0.8425\n",
            "Test accuracy: 0.8425\n"
          ],
          "name": "stdout"
        }
      ]
    }
  ]
}